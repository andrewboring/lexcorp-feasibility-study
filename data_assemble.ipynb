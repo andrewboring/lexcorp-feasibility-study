{
 "cells": [
  {
   "cell_type": "code",
   "execution_count": 1,
   "metadata": {},
   "outputs": [],
   "source": [
    "import pandas as pd\n",
    "import numpy as np\n",
    "import json\n",
    "#import os\n",
    "import datetime as dt"
   ]
  },
  {
   "cell_type": "code",
   "execution_count": 2,
   "metadata": {},
   "outputs": [],
   "source": [
    "zillow_home_index_file = \"data/Zip_Zhvi_Summary_AllHomes.csv\"\n",
    "zip_code_file = \"data/zip_code_list.txt\"\n",
    "zip_code_stats = \"zip_code_raw_data_no-header.csv\""
   ]
  },
  {
   "cell_type": "markdown",
   "metadata": {},
   "source": [
    "Note: the realtor_data_file (RDC_InventoryCoreMetrics_Zip_Hist.csv) is too large (250+ MB) to be stored in Github.   \n",
    "In the following cell, you must specify where to load the file from. \n",
    "\n",
    "The first option will obtain it directly from realtor.com.\n",
    "The second option assumes you downloaded the file and saved it in the data folder.  \n"
   ]
  },
  {
   "cell_type": "code",
   "execution_count": 3,
   "metadata": {},
   "outputs": [],
   "source": [
    "# Uncomment the option you want before running the this cell!\n",
    "\n",
    "#realtor_data = \"https://s3-us-west-2.amazonaws.com/econresearch/Reports/Core/RDC_InventoryCoreMetrics_Zip_Hist.csv\"\n",
    "realtor_data = \"data/RDC_InventoryCoreMetrics_Zip_Hist.csv\""
   ]
  },
  {
   "cell_type": "code",
   "execution_count": 8,
   "metadata": {},
   "outputs": [
    {
     "name": "stderr",
     "output_type": "stream",
     "text": [
      "/anaconda2/envs/PythonData/lib/python3.6/site-packages/ipykernel_launcher.py:1: ParserWarning: Falling back to the 'python' engine because the 'c' engine does not support skipfooter; you can avoid this warning by specifying engine='python'.\n",
      "  \"\"\"Entry point for launching an IPython kernel.\n"
     ]
    }
   ],
   "source": [
    "realtor_df = pd.read_csv(realtor_data, encoding=\"ISO-8859-1\", dtype={'Month':'str', 'ZipCode':'str', 'Footnote':'str'}, skipfooter=1, engine=python)"
   ]
  },
  {
   "cell_type": "code",
   "execution_count": null,
   "metadata": {},
   "outputs": [],
   "source": [
    "#tmp_realtor = \"data/RDC_2018_tmp.csv\"\n",
    "#tmp_realtor_df = pd.read_csv(realtor_data, encoding=\"ISO-8859-1\", dtype={'Month':'str', 'ZipCode':'str', 'Footnote':'str'}, parse_dates=['Month'], skipfooter=1)"
   ]
  },
  {
   "cell_type": "code",
   "execution_count": 9,
   "metadata": {},
   "outputs": [
    {
     "name": "stdout",
     "output_type": "stream",
     "text": [
      "<class 'pandas.core.frame.DataFrame'>\n",
      "RangeIndex: 1229349 entries, 0 to 1229348\n",
      "Data columns (total 34 columns):\n",
      "Month                        1229349 non-null object\n",
      "ZipCode                      1229349 non-null object\n",
      "ZipName                      1229349 non-null object\n",
      "Footnote                     1229349 non-null object\n",
      "Median Listing Price         1229349 non-null float64\n",
      "Median Listing Price M/M     1229349 non-null float64\n",
      "Median Listing Price Y/Y     884655 non-null float64\n",
      "Active Listing Count         1229349 non-null float64\n",
      "Active Listing Count M/M     1229164 non-null float64\n",
      "Active Listing Count Y/Y     898553 non-null float64\n",
      "Days on Market               1229320 non-null float64\n",
      "Days on Market M/M           1229308 non-null float64\n",
      "Days on Market Y/Y           901680 non-null float64\n",
      "New Listing Count            1229349 non-null float64\n",
      "New Listing Count M/M        1166695 non-null float64\n",
      "New Listing Count Y/Y        1010940 non-null float64\n",
      "Price Increase Count         1229349 non-null float64\n",
      "Price Increase Count M/M     257856 non-null float64\n",
      "Price Increase Count Y/Y     226942 non-null float64\n",
      "Price Decrease Count         1229349 non-null float64\n",
      "Price Decrease Count M/M     1087989 non-null float64\n",
      "Price Decrease Count Y/Y     942860 non-null float64\n",
      "Pending Listing Count        1229349 non-null float64\n",
      "Pending Listing Count M/M    451062 non-null float64\n",
      "Pending Listing Count Y/Y    352179 non-null float64\n",
      "Avg Listing Price            1229349 non-null float64\n",
      "Avg Listing Price M/M        1229349 non-null float64\n",
      "Avg Listing Price Y/Y        1063499 non-null float64\n",
      "Total Listing Count          1229349 non-null float64\n",
      "Total Listing Count M/M      1229164 non-null float64\n",
      "Total Listing Count Y/Y      1063328 non-null float64\n",
      "Pending Ratio                1229145 non-null float64\n",
      "Pending Ratio M/M            1229135 non-null float64\n",
      "Pending Ratio Y/Y            1063257 non-null float64\n",
      "dtypes: float64(30), object(4)\n",
      "memory usage: 318.9+ MB\n"
     ]
    }
   ],
   "source": [
    "realtor_df.info()"
   ]
  },
  {
   "cell_type": "code",
   "execution_count": 10,
   "metadata": {},
   "outputs": [],
   "source": [
    "#realtor_df['Month'].to_datetime()\n",
    "realtor_df['Month'] = pd.to_datetime(realtor_df['Month'])"
   ]
  },
  {
   "cell_type": "code",
   "execution_count": 11,
   "metadata": {},
   "outputs": [
    {
     "data": {
      "text/plain": [
       "dtype('<M8[ns]')"
      ]
     },
     "execution_count": 11,
     "metadata": {},
     "output_type": "execute_result"
    }
   ],
   "source": [
    "realtor_df['Month'].dtype"
   ]
  },
  {
   "cell_type": "code",
   "execution_count": 12,
   "metadata": {},
   "outputs": [
    {
     "data": {
      "text/html": [
       "<div>\n",
       "<style scoped>\n",
       "    .dataframe tbody tr th:only-of-type {\n",
       "        vertical-align: middle;\n",
       "    }\n",
       "\n",
       "    .dataframe tbody tr th {\n",
       "        vertical-align: top;\n",
       "    }\n",
       "\n",
       "    .dataframe thead th {\n",
       "        text-align: right;\n",
       "    }\n",
       "</style>\n",
       "<table border=\"1\" class=\"dataframe\">\n",
       "  <thead>\n",
       "    <tr style=\"text-align: right;\">\n",
       "      <th></th>\n",
       "      <th>Month</th>\n",
       "      <th>ZipCode</th>\n",
       "      <th>ZipName</th>\n",
       "      <th>Footnote</th>\n",
       "      <th>Median Listing Price</th>\n",
       "      <th>Median Listing Price M/M</th>\n",
       "      <th>Median Listing Price Y/Y</th>\n",
       "      <th>Active Listing Count</th>\n",
       "      <th>Active Listing Count M/M</th>\n",
       "      <th>Active Listing Count Y/Y</th>\n",
       "      <th>...</th>\n",
       "      <th>Pending Listing Count Y/Y</th>\n",
       "      <th>Avg Listing Price</th>\n",
       "      <th>Avg Listing Price M/M</th>\n",
       "      <th>Avg Listing Price Y/Y</th>\n",
       "      <th>Total Listing Count</th>\n",
       "      <th>Total Listing Count M/M</th>\n",
       "      <th>Total Listing Count Y/Y</th>\n",
       "      <th>Pending Ratio</th>\n",
       "      <th>Pending Ratio M/M</th>\n",
       "      <th>Pending Ratio Y/Y</th>\n",
       "    </tr>\n",
       "  </thead>\n",
       "  <tbody>\n",
       "    <tr>\n",
       "      <th>0</th>\n",
       "      <td>2019-02-01</td>\n",
       "      <td>01001</td>\n",
       "      <td>Agawam, MA</td>\n",
       "      <td>*</td>\n",
       "      <td>209500.0</td>\n",
       "      <td>0.0411</td>\n",
       "      <td>NaN</td>\n",
       "      <td>47.0</td>\n",
       "      <td>-0.1532</td>\n",
       "      <td>-0.1132</td>\n",
       "      <td>...</td>\n",
       "      <td>0.0000</td>\n",
       "      <td>242888.0</td>\n",
       "      <td>0.0217</td>\n",
       "      <td>-0.1314</td>\n",
       "      <td>48.0</td>\n",
       "      <td>-0.1504</td>\n",
       "      <td>-0.1111</td>\n",
       "      <td>0.0213</td>\n",
       "      <td>0.0033</td>\n",
       "      <td>0.0024</td>\n",
       "    </tr>\n",
       "    <tr>\n",
       "      <th>1</th>\n",
       "      <td>2019-02-01</td>\n",
       "      <td>01002</td>\n",
       "      <td>Amherst, MA</td>\n",
       "      <td>nan</td>\n",
       "      <td>447225.0</td>\n",
       "      <td>-0.0150</td>\n",
       "      <td>0.1540</td>\n",
       "      <td>56.0</td>\n",
       "      <td>0.1200</td>\n",
       "      <td>-0.2483</td>\n",
       "      <td>...</td>\n",
       "      <td>NaN</td>\n",
       "      <td>493027.0</td>\n",
       "      <td>-0.0132</td>\n",
       "      <td>0.0617</td>\n",
       "      <td>56.0</td>\n",
       "      <td>0.1200</td>\n",
       "      <td>-0.2483</td>\n",
       "      <td>0.0000</td>\n",
       "      <td>0.0000</td>\n",
       "      <td>0.0000</td>\n",
       "    </tr>\n",
       "    <tr>\n",
       "      <th>2</th>\n",
       "      <td>2019-02-01</td>\n",
       "      <td>01005</td>\n",
       "      <td>Barre, MA</td>\n",
       "      <td>*</td>\n",
       "      <td>241550.0</td>\n",
       "      <td>-0.0069</td>\n",
       "      <td>0.0679</td>\n",
       "      <td>16.5</td>\n",
       "      <td>-0.3529</td>\n",
       "      <td>0.0313</td>\n",
       "      <td>...</td>\n",
       "      <td>NaN</td>\n",
       "      <td>343905.0</td>\n",
       "      <td>0.0343</td>\n",
       "      <td>0.6497</td>\n",
       "      <td>16.5</td>\n",
       "      <td>-0.3529</td>\n",
       "      <td>0.0313</td>\n",
       "      <td>0.0000</td>\n",
       "      <td>0.0000</td>\n",
       "      <td>0.0000</td>\n",
       "    </tr>\n",
       "    <tr>\n",
       "      <th>3</th>\n",
       "      <td>2019-02-01</td>\n",
       "      <td>01007</td>\n",
       "      <td>Belchertown, MA</td>\n",
       "      <td>nan</td>\n",
       "      <td>331225.0</td>\n",
       "      <td>-0.0076</td>\n",
       "      <td>-0.0398</td>\n",
       "      <td>49.0</td>\n",
       "      <td>0.0889</td>\n",
       "      <td>-0.2033</td>\n",
       "      <td>...</td>\n",
       "      <td>NaN</td>\n",
       "      <td>324858.0</td>\n",
       "      <td>-0.0221</td>\n",
       "      <td>-0.0564</td>\n",
       "      <td>49.0</td>\n",
       "      <td>0.0889</td>\n",
       "      <td>-0.2033</td>\n",
       "      <td>0.0000</td>\n",
       "      <td>0.0000</td>\n",
       "      <td>0.0000</td>\n",
       "    </tr>\n",
       "    <tr>\n",
       "      <th>4</th>\n",
       "      <td>2019-02-01</td>\n",
       "      <td>01008</td>\n",
       "      <td>Blandford, MA</td>\n",
       "      <td>*</td>\n",
       "      <td>216275.0</td>\n",
       "      <td>-0.0333</td>\n",
       "      <td>NaN</td>\n",
       "      <td>9.5</td>\n",
       "      <td>0.0556</td>\n",
       "      <td>NaN</td>\n",
       "      <td>...</td>\n",
       "      <td>0.3333</td>\n",
       "      <td>224871.0</td>\n",
       "      <td>-0.0243</td>\n",
       "      <td>0.0409</td>\n",
       "      <td>11.5</td>\n",
       "      <td>0.0455</td>\n",
       "      <td>0.4375</td>\n",
       "      <td>0.2105</td>\n",
       "      <td>-0.0117</td>\n",
       "      <td>-0.0202</td>\n",
       "    </tr>\n",
       "  </tbody>\n",
       "</table>\n",
       "<p>5 rows × 34 columns</p>\n",
       "</div>"
      ],
      "text/plain": [
       "       Month ZipCode          ZipName Footnote  Median Listing Price  \\\n",
       "0 2019-02-01   01001       Agawam, MA        *              209500.0   \n",
       "1 2019-02-01   01002      Amherst, MA      nan              447225.0   \n",
       "2 2019-02-01   01005        Barre, MA        *              241550.0   \n",
       "3 2019-02-01   01007  Belchertown, MA      nan              331225.0   \n",
       "4 2019-02-01   01008    Blandford, MA        *              216275.0   \n",
       "\n",
       "   Median Listing Price M/M  Median Listing Price Y/Y  Active Listing Count   \\\n",
       "0                    0.0411                       NaN                   47.0   \n",
       "1                   -0.0150                    0.1540                   56.0   \n",
       "2                   -0.0069                    0.0679                   16.5   \n",
       "3                   -0.0076                   -0.0398                   49.0   \n",
       "4                   -0.0333                       NaN                    9.5   \n",
       "\n",
       "   Active Listing Count M/M  Active Listing Count Y/Y        ...          \\\n",
       "0                   -0.1532                   -0.1132        ...           \n",
       "1                    0.1200                   -0.2483        ...           \n",
       "2                   -0.3529                    0.0313        ...           \n",
       "3                    0.0889                   -0.2033        ...           \n",
       "4                    0.0556                       NaN        ...           \n",
       "\n",
       "   Pending Listing Count Y/Y  Avg Listing Price  Avg Listing Price M/M  \\\n",
       "0                     0.0000           242888.0                 0.0217   \n",
       "1                        NaN           493027.0                -0.0132   \n",
       "2                        NaN           343905.0                 0.0343   \n",
       "3                        NaN           324858.0                -0.0221   \n",
       "4                     0.3333           224871.0                -0.0243   \n",
       "\n",
       "   Avg Listing Price Y/Y  Total Listing Count  Total Listing Count M/M  \\\n",
       "0                -0.1314                 48.0                  -0.1504   \n",
       "1                 0.0617                 56.0                   0.1200   \n",
       "2                 0.6497                 16.5                  -0.3529   \n",
       "3                -0.0564                 49.0                   0.0889   \n",
       "4                 0.0409                 11.5                   0.0455   \n",
       "\n",
       "   Total Listing Count Y/Y  Pending Ratio  Pending Ratio M/M  \\\n",
       "0                  -0.1111         0.0213             0.0033   \n",
       "1                  -0.2483         0.0000             0.0000   \n",
       "2                   0.0313         0.0000             0.0000   \n",
       "3                  -0.2033         0.0000             0.0000   \n",
       "4                   0.4375         0.2105            -0.0117   \n",
       "\n",
       "   Pending Ratio Y/Y  \n",
       "0             0.0024  \n",
       "1             0.0000  \n",
       "2             0.0000  \n",
       "3             0.0000  \n",
       "4            -0.0202  \n",
       "\n",
       "[5 rows x 34 columns]"
      ]
     },
     "execution_count": 12,
     "metadata": {},
     "output_type": "execute_result"
    }
   ],
   "source": [
    "realtor_df.head()"
   ]
  },
  {
   "cell_type": "code",
   "execution_count": 13,
   "metadata": {},
   "outputs": [],
   "source": [
    "filtered_realtor_df = realtor_df[realtor_df['Month'].dt.year == 2018]"
   ]
  },
  {
   "cell_type": "code",
   "execution_count": 14,
   "metadata": {},
   "outputs": [
    {
     "data": {
      "text/html": [
       "<div>\n",
       "<style scoped>\n",
       "    .dataframe tbody tr th:only-of-type {\n",
       "        vertical-align: middle;\n",
       "    }\n",
       "\n",
       "    .dataframe tbody tr th {\n",
       "        vertical-align: top;\n",
       "    }\n",
       "\n",
       "    .dataframe thead th {\n",
       "        text-align: right;\n",
       "    }\n",
       "</style>\n",
       "<table border=\"1\" class=\"dataframe\">\n",
       "  <thead>\n",
       "    <tr style=\"text-align: right;\">\n",
       "      <th></th>\n",
       "      <th>Month</th>\n",
       "      <th>ZipCode</th>\n",
       "      <th>ZipName</th>\n",
       "      <th>Footnote</th>\n",
       "      <th>Median Listing Price</th>\n",
       "      <th>Median Listing Price M/M</th>\n",
       "      <th>Median Listing Price Y/Y</th>\n",
       "      <th>Active Listing Count</th>\n",
       "      <th>Active Listing Count M/M</th>\n",
       "      <th>Active Listing Count Y/Y</th>\n",
       "      <th>...</th>\n",
       "      <th>Pending Listing Count Y/Y</th>\n",
       "      <th>Avg Listing Price</th>\n",
       "      <th>Avg Listing Price M/M</th>\n",
       "      <th>Avg Listing Price Y/Y</th>\n",
       "      <th>Total Listing Count</th>\n",
       "      <th>Total Listing Count M/M</th>\n",
       "      <th>Total Listing Count Y/Y</th>\n",
       "      <th>Pending Ratio</th>\n",
       "      <th>Pending Ratio M/M</th>\n",
       "      <th>Pending Ratio Y/Y</th>\n",
       "    </tr>\n",
       "  </thead>\n",
       "  <tbody>\n",
       "    <tr>\n",
       "      <th>30057</th>\n",
       "      <td>2018-12-01</td>\n",
       "      <td>01001</td>\n",
       "      <td>Agawam, MA</td>\n",
       "      <td>nan</td>\n",
       "      <td>208300.0</td>\n",
       "      <td>0.0158</td>\n",
       "      <td>-0.0309</td>\n",
       "      <td>64.0</td>\n",
       "      <td>-0.1233</td>\n",
       "      <td>0.2308</td>\n",
       "      <td>...</td>\n",
       "      <td>0.0</td>\n",
       "      <td>247625.0</td>\n",
       "      <td>-0.0032</td>\n",
       "      <td>0.0154</td>\n",
       "      <td>65.0</td>\n",
       "      <td>-0.1216</td>\n",
       "      <td>0.2264</td>\n",
       "      <td>0.0156</td>\n",
       "      <td>0.0019</td>\n",
       "      <td>-0.0036</td>\n",
       "    </tr>\n",
       "    <tr>\n",
       "      <th>30058</th>\n",
       "      <td>2018-12-01</td>\n",
       "      <td>01002</td>\n",
       "      <td>Amherst, MA</td>\n",
       "      <td>nan</td>\n",
       "      <td>425050.0</td>\n",
       "      <td>-0.0234</td>\n",
       "      <td>0.2503</td>\n",
       "      <td>61.0</td>\n",
       "      <td>-0.2278</td>\n",
       "      <td>-0.1974</td>\n",
       "      <td>...</td>\n",
       "      <td>NaN</td>\n",
       "      <td>480597.0</td>\n",
       "      <td>0.0229</td>\n",
       "      <td>0.0655</td>\n",
       "      <td>61.0</td>\n",
       "      <td>-0.2278</td>\n",
       "      <td>-0.1974</td>\n",
       "      <td>0.0000</td>\n",
       "      <td>0.0000</td>\n",
       "      <td>0.0000</td>\n",
       "    </tr>\n",
       "    <tr>\n",
       "      <th>30059</th>\n",
       "      <td>2018-12-01</td>\n",
       "      <td>01005</td>\n",
       "      <td>Barre, MA</td>\n",
       "      <td>*</td>\n",
       "      <td>240050.0</td>\n",
       "      <td>-0.0062</td>\n",
       "      <td>NaN</td>\n",
       "      <td>31.0</td>\n",
       "      <td>-0.1143</td>\n",
       "      <td>NaN</td>\n",
       "      <td>...</td>\n",
       "      <td>NaN</td>\n",
       "      <td>324806.0</td>\n",
       "      <td>0.0349</td>\n",
       "      <td>0.4040</td>\n",
       "      <td>31.0</td>\n",
       "      <td>-0.1143</td>\n",
       "      <td>0.4762</td>\n",
       "      <td>0.0000</td>\n",
       "      <td>0.0000</td>\n",
       "      <td>0.0000</td>\n",
       "    </tr>\n",
       "    <tr>\n",
       "      <th>30060</th>\n",
       "      <td>2018-12-01</td>\n",
       "      <td>01007</td>\n",
       "      <td>Belchertown, MA</td>\n",
       "      <td>nan</td>\n",
       "      <td>344950.0</td>\n",
       "      <td>0.0614</td>\n",
       "      <td>0.0012</td>\n",
       "      <td>47.0</td>\n",
       "      <td>-0.1376</td>\n",
       "      <td>-0.2985</td>\n",
       "      <td>...</td>\n",
       "      <td>NaN</td>\n",
       "      <td>341111.0</td>\n",
       "      <td>-0.0122</td>\n",
       "      <td>-0.0034</td>\n",
       "      <td>47.0</td>\n",
       "      <td>-0.1376</td>\n",
       "      <td>-0.2985</td>\n",
       "      <td>0.0000</td>\n",
       "      <td>0.0000</td>\n",
       "      <td>0.0000</td>\n",
       "    </tr>\n",
       "    <tr>\n",
       "      <th>30061</th>\n",
       "      <td>2018-12-01</td>\n",
       "      <td>01008</td>\n",
       "      <td>Blandford, MA</td>\n",
       "      <td>*</td>\n",
       "      <td>239950.0</td>\n",
       "      <td>-0.0266</td>\n",
       "      <td>NaN</td>\n",
       "      <td>12.0</td>\n",
       "      <td>0.0000</td>\n",
       "      <td>NaN</td>\n",
       "      <td>...</td>\n",
       "      <td>0.0</td>\n",
       "      <td>235810.0</td>\n",
       "      <td>-0.0773</td>\n",
       "      <td>-0.0587</td>\n",
       "      <td>14.0</td>\n",
       "      <td>0.0000</td>\n",
       "      <td>0.1667</td>\n",
       "      <td>0.1667</td>\n",
       "      <td>0.0000</td>\n",
       "      <td>-0.0333</td>\n",
       "    </tr>\n",
       "  </tbody>\n",
       "</table>\n",
       "<p>5 rows × 34 columns</p>\n",
       "</div>"
      ],
      "text/plain": [
       "           Month ZipCode          ZipName Footnote  Median Listing Price  \\\n",
       "30057 2018-12-01   01001       Agawam, MA      nan              208300.0   \n",
       "30058 2018-12-01   01002      Amherst, MA      nan              425050.0   \n",
       "30059 2018-12-01   01005        Barre, MA        *              240050.0   \n",
       "30060 2018-12-01   01007  Belchertown, MA      nan              344950.0   \n",
       "30061 2018-12-01   01008    Blandford, MA        *              239950.0   \n",
       "\n",
       "       Median Listing Price M/M  Median Listing Price Y/Y  \\\n",
       "30057                    0.0158                   -0.0309   \n",
       "30058                   -0.0234                    0.2503   \n",
       "30059                   -0.0062                       NaN   \n",
       "30060                    0.0614                    0.0012   \n",
       "30061                   -0.0266                       NaN   \n",
       "\n",
       "       Active Listing Count   Active Listing Count M/M  \\\n",
       "30057                   64.0                   -0.1233   \n",
       "30058                   61.0                   -0.2278   \n",
       "30059                   31.0                   -0.1143   \n",
       "30060                   47.0                   -0.1376   \n",
       "30061                   12.0                    0.0000   \n",
       "\n",
       "       Active Listing Count Y/Y        ...          Pending Listing Count Y/Y  \\\n",
       "30057                    0.2308        ...                                0.0   \n",
       "30058                   -0.1974        ...                                NaN   \n",
       "30059                       NaN        ...                                NaN   \n",
       "30060                   -0.2985        ...                                NaN   \n",
       "30061                       NaN        ...                                0.0   \n",
       "\n",
       "       Avg Listing Price  Avg Listing Price M/M  Avg Listing Price Y/Y  \\\n",
       "30057           247625.0                -0.0032                 0.0154   \n",
       "30058           480597.0                 0.0229                 0.0655   \n",
       "30059           324806.0                 0.0349                 0.4040   \n",
       "30060           341111.0                -0.0122                -0.0034   \n",
       "30061           235810.0                -0.0773                -0.0587   \n",
       "\n",
       "       Total Listing Count  Total Listing Count M/M  Total Listing Count Y/Y  \\\n",
       "30057                 65.0                  -0.1216                   0.2264   \n",
       "30058                 61.0                  -0.2278                  -0.1974   \n",
       "30059                 31.0                  -0.1143                   0.4762   \n",
       "30060                 47.0                  -0.1376                  -0.2985   \n",
       "30061                 14.0                   0.0000                   0.1667   \n",
       "\n",
       "       Pending Ratio  Pending Ratio M/M  Pending Ratio Y/Y  \n",
       "30057         0.0156             0.0019            -0.0036  \n",
       "30058         0.0000             0.0000             0.0000  \n",
       "30059         0.0000             0.0000             0.0000  \n",
       "30060         0.0000             0.0000             0.0000  \n",
       "30061         0.1667             0.0000            -0.0333  \n",
       "\n",
       "[5 rows x 34 columns]"
      ]
     },
     "execution_count": 14,
     "metadata": {},
     "output_type": "execute_result"
    }
   ],
   "source": [
    "filtered_realtor_df.head()"
   ]
  },
  {
   "cell_type": "code",
   "execution_count": null,
   "metadata": {},
   "outputs": [],
   "source": [
    "zips_df = pd.read_csv(zip_code_file, encoding=\"ISO-8859-1\", dtype={'ZipCode':'str'})"
   ]
  },
  {
   "cell_type": "code",
   "execution_count": null,
   "metadata": {},
   "outputs": [],
   "source": [
    "zips_df.info()"
   ]
  },
  {
   "cell_type": "code",
   "execution_count": null,
   "metadata": {},
   "outputs": [],
   "source": [
    "# Get a count of zip codes in my zip list\n",
    "zips_count = zips_df['ZipCode'].count()\n",
    "zips_count"
   ]
  },
  {
   "cell_type": "code",
   "execution_count": null,
   "metadata": {},
   "outputs": [],
   "source": [
    "cleaned_zips_df = pd.merge(realtor_df, zips_df, on=\"ZipCode\")"
   ]
  },
  {
   "cell_type": "code",
   "execution_count": null,
   "metadata": {},
   "outputs": [],
   "source": [
    "cleaned_zips_df.info()"
   ]
  },
  {
   "cell_type": "code",
   "execution_count": null,
   "metadata": {},
   "outputs": [],
   "source": [
    "cleaned_zips_df"
   ]
  },
  {
   "cell_type": "code",
   "execution_count": null,
   "metadata": {},
   "outputs": [],
   "source": [
    "cleaned_zipcode_count = len(cleaned_zips_df['ZipCode'].unique())\n",
    "cleaned_zipcode_count"
   ]
  },
  {
   "cell_type": "code",
   "execution_count": null,
   "metadata": {},
   "outputs": [],
   "source": [
    "print('Total SAF Zipcodes: ' + str(zips_count))\n",
    "print('SAF Zipcodes in dataset: ' + str(cleaned_zipcode_count))\n",
    "print('Missing Zipcodes: ' + str(zips_count - cleaned_zipcode_count))"
   ]
  },
  {
   "cell_type": "code",
   "execution_count": null,
   "metadata": {},
   "outputs": [],
   "source": [
    "# To Do, show map with located and missing zip codes.\n",
    "# Maybe Maps API?"
   ]
  },
  {
   "cell_type": "code",
   "execution_count": null,
   "metadata": {},
   "outputs": [],
   "source": [
    "zip_listings = cleaned_zips_df[['Month', 'ZipCode', 'ZipName', 'Median Listing Price', 'Avg Listing Price']]"
   ]
  },
  {
   "cell_type": "code",
   "execution_count": null,
   "metadata": {},
   "outputs": [],
   "source": [
    "zip_listings.head()"
   ]
  },
  {
   "cell_type": "code",
   "execution_count": null,
   "metadata": {},
   "outputs": [],
   "source": [
    "zillow_df = pd.read_csv(zillow_home_index_file, encoding=\"ISO-8859-1\")"
   ]
  },
  {
   "cell_type": "code",
   "execution_count": null,
   "metadata": {},
   "outputs": [],
   "source": [
    "new_zillow_df = zillow_df.rename(columns={'RegionName':'ZipCode','Zhvi':'zhvi'})"
   ]
  },
  {
   "cell_type": "code",
   "execution_count": null,
   "metadata": {},
   "outputs": [],
   "source": [
    "new_zillow_df['ZipName'] = zillow_df['City'].map(str) + \", \" + zillow_df['State']"
   ]
  },
  {
   "cell_type": "code",
   "execution_count": null,
   "metadata": {},
   "outputs": [],
   "source": [
    "zillow_listings = new_zillow_df[['Date','ZipCode','zhvi']]"
   ]
  },
  {
   "cell_type": "code",
   "execution_count": null,
   "metadata": {},
   "outputs": [],
   "source": [
    "zillow_listings = zillow_listings.astype({\"ZipCode\": str})"
   ]
  },
  {
   "cell_type": "code",
   "execution_count": null,
   "metadata": {},
   "outputs": [],
   "source": [
    "cleaned_zillow_df = pd.merge(zillow_listings, zips_df, on=\"ZipCode\")"
   ]
  },
  {
   "cell_type": "code",
   "execution_count": null,
   "metadata": {},
   "outputs": [],
   "source": [
    "len(cleaned_zillow_df)"
   ]
  },
  {
   "cell_type": "code",
   "execution_count": null,
   "metadata": {},
   "outputs": [],
   "source": [
    "# Eh, no good.\n",
    "#combined_zzz = pd.merge(zip_listings, cleaned_zillow_df, how='outer', on='ZipCode')\n",
    "#combined_zzz"
   ]
  },
  {
   "cell_type": "code",
   "execution_count": null,
   "metadata": {},
   "outputs": [],
   "source": [
    "zip_stats = pd.read_csv(zip_code_stats, encoding=\"ISO-8859-1\")"
   ]
  },
  {
   "cell_type": "code",
   "execution_count": null,
   "metadata": {},
   "outputs": [],
   "source": [
    "zip_stats.head(20)"
   ]
  },
  {
   "cell_type": "code",
   "execution_count": null,
   "metadata": {},
   "outputs": [],
   "source": []
  }
 ],
 "metadata": {
  "kernelspec": {
   "display_name": "Python 3",
   "language": "python",
   "name": "python3"
  },
  "language_info": {
   "codemirror_mode": {
    "name": "ipython",
    "version": 3
   },
   "file_extension": ".py",
   "mimetype": "text/x-python",
   "name": "python",
   "nbconvert_exporter": "python",
   "pygments_lexer": "ipython3",
   "version": "3.6.8"
  }
 },
 "nbformat": 4,
 "nbformat_minor": 2
}
